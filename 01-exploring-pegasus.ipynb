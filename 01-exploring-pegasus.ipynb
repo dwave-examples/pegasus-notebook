{
 "cells": [
  {
   "attachments": {},
   "cell_type": "markdown",
   "metadata": {},
   "source": [
    "# Exploring the Pegasus Topology\n",
    "D-Wave's commercial quantum computer, Advantage, is based on a quantum processing unit (QPU) with a complex architecture: the Pegasus family of [topologies](https://docs.dwavesys.com/docs/latest/c_gs_4.html). This notebook describes the Pegasus topology and shows how it enables superior performance to previous generations of quantum computers. \n",
    "    \n",
    "1. [The Pegasus Advantage](#The-Pegasus-Advantage) demonstrates and explains the performance differences between the previous and current QPU architectures.\n",
    "2. [Navigating the Topology](#Navigating-the-Topology) describes the Pegasus topology and presents Ocean tools that help you use it.\n",
    "3. [Example Problem: RANr](#Example-Problem:-RANr) solves a hard problem on an Advantage quantum computer.\n",
    "\n",
    "This notebook should familiarize you with the Pegasus topology and the tools to use it.\n",
    "\n",
    "<img src=\"images/anim.gif\" width=200x/>"
   ]
  },
  {
   "attachments": {},
   "cell_type": "markdown",
   "metadata": {},
   "source": [
    "**New to Jupyter Notebooks?** JNs are divided into text or code cells. Pressing the **Run** button in the menu bar moves to the next cell. Code cells are marked by an \"In: \\[\\]\" to the left; when run, an asterisk displays until code completion: \"In: \\[\\*\\]\"."
   ]
  },
  {
   "attachments": {},
   "cell_type": "markdown",
   "metadata": {},
   "source": [
    "# The Pegasus Advantage\n",
    "\n",
    "The Advantage system is distinct from all previous generations of D-Wave's quantum computers in employing an architecture made possible by advances in QPU fabrication technology. \n",
    "\n",
    "QPUs are lattices of interconnected qubits. While some qubits connect to others via couplers, QPUs are not fully connected. Instead, qubits interconnect in a topology: the Advantage topology is called *Pegasus*.\n",
    "\n",
    "QPU topology is crucial to *embedding* problems onto quantum computers, determining what problems can be addressed and affecting the quality of solutions. Pegasus topology was designed for the real-world problems of business applications."
   ]
  },
  {
   "attachments": {},
   "cell_type": "markdown",
   "metadata": {},
   "source": [
    "## Minor-Embedding: Mapping Problems to Qubits\n",
    "\n",
    "> **Note:** If you already understand how problems are mapped to the D-Wave system, please skip ahead to the \n",
    "   next text cell by clicking the **Run** button.\n",
    " \n",
    "D-Wave quantum computers solve binary quadratic models (BQMs): the [Ising model](https://en.wikipedia.org/wiki/Ising_model) traditionally used in statistical mechanics and its computer-science equivalent, the quadratic unconstrained binary optimization ([QUBO](https://en.wikipedia.org/wiki/Quadratic_unconstrained_binary_optimization)) problem. Given $N$ variables $x_1,...,x_N$, where each variable $x_i$ can have binary values $0$ or $1$, the system finds assignments of values that minimize the QUBO,\n",
    "\n",
    "$\\sum_i^N q_ix_i + \\sum_{i<j}^N q_{i,j}x_i  x_j$,\n",
    "\n",
    "where $q_i$ and $q_{i,j}$ are configurable (linear and quadratic) coefficients. \n",
    "\n",
    "Such [objective functions](https://docs.ocean.dwavesys.com/en/stable/concepts) can be represented by graphs. A graph comprises a collection of nodes, representing variables, and edges representing the connections between them. For example, a Boolean AND, $z \\Leftrightarrow x_1 \\wedge x_2$, expressed in [QUBO formulation](https://docs.dwavesys.com/docs/latest/handbook_reformulating.html) as, \n",
    "\n",
    "$x_1 x_2 - 2(x_1+x_2)z +3z$, \n",
    "\n",
    "is represented by the graph:\n",
    "\n",
    "<img src=\"images/embedding_and.png\" width=300x/>\n",
    "\n",
    "Linear coefficients (e.g., the $3$ multiplying variable $z$) are represented as node values while quadratic coefficients (e.g., the $-2$ multiplying the interaction of variables $x_1z$) are represented as edge weights. \n",
    "\n",
    "To formulate a problem for a D-Wave quantum computer, by programming $q_i$ and $q_{i,j}$ so that assignments of $x_1,...,x_N$ also represent solutions to the problem, requires that the problem graph be mapped to the QPU. [Minor embedding](https://docs.ocean.dwavesys.com/en/stable/concepts/embedding.html#embedding-sdk) maps problem variables ($x_1, x_2, z$ for the AND gate) to the indexed qubits of the D-Wave QPU, with node values represented by qubit biases and edge values by coupler strengths.\n",
    "\n",
    "Were the QPU topology fully connected&mdash;a fully-connected graph, or *clique*, is one in which every node shares an edge with every other node, and in the case of QPU topology, every qubit would be coupled to every other qubit&mdash;you could simply map each problem variable (graph node) to any arbitrary qubit and each quadratic interaction (graph edge) to a coupler. \n",
    "\n",
    "With sparser QPU topologies, you might need to represent some variables as *chains* of two or more qubits in order to couple their representative qubits. For example, the Boolean AND, represented by a fully connected graph of three nodes, $K_3$, shown on the left side of the figure below, cannot be mapped directly to qubits in the Chimera topology used by previous QPUs. Instead, the graph is mapped to four qubits that are coupled so two qubits (e.g., 0 and 4 here) form a chain to represent one variable (here $z$), as shown in the middle and right parts of the figure.\n",
    "\n",
    "<img src=\"images/embedding_chimera_and.png\" width=500x/>\n",
    "\n",
    "The strength of couplers between qubits in a chain is set to correlate the qubits strongly, so that in most solutions they have a single value for the variable they represent. \n",
    "\n",
    "[Ocean software](https://docs.ocean.dwavesys.com/en/stable/index.html) provides tools that handle minor-embedding. One instance of minor-embedding a $K_5$ problem on an Advantage is displayed below in the [dwave-inspector](https://docs.ocean.dwavesys.com/en/stable/docs_inspector/sdk_index.html) tool. The problem graph, shown on the left, is embedded in six qubits, shown on the right against a background of the Pegasus topology. Variable ``0``, highlighted in dark magenta, is represented by two qubits, ``4408`` and ``2437`` in this particular embedding.\n",
    "\n",
    "<img src=\"images/embedding_5var6qubits.png\" width=500x/>\n",
    "\n",
    "The size and complexity of problems that can be submitted to a quantum computer depends on the QPU's *working graph*, the set of qubits and couplers that are available for computation. Adding qubits expands the QPU's range, obviously, but  denser connectivity reduces the allocation of multiple qubits to chains representing single variables. Long chains can also degrade solution quality. "
   ]
  },
  {
   "attachments": {},
   "cell_type": "markdown",
   "metadata": {},
   "source": [
    "The Pegasus topology enables the Advantage QPU to more than double the number of available qubits compared to the previous D-Wave 2000Q quantum computer, and the working graph is denser, meaning each qubit is coupled to a greater number of neighboring qubits. "
   ]
  },
  {
   "attachments": {},
   "cell_type": "markdown",
   "metadata": {},
   "source": [
    "## More Qubits and Denser Connectivity\n",
    "When looking at summary differences between generations of QPUs, one naturally tends to first notice the increase in number of qubits. The earlier D-Wave 2000Q quantum computer had over 2,000 while the Advantage has over 5,000. That increase is important; this notebook shows why connectivity deserves your attention too.   \n",
    "\n",
    "This section also introduces useful Ocean software tools that let you work and experiment with the QPU topology locally on your computer. Unless you are solving a problem, as section [Example Problem: RANr](#Example-Problem:-RANr) does, you can explore the topology without needing to access a system.\n",
    "\n",
    "Ocean's [dwave_networkx](https://docs.ocean.dwavesys.com/en/stable/docs_dnx/sdk_index.html) is an extension of [NetworkX](http://networkx.github.io/)&mdash;a Python language package for exploration and analysis of networks and network algorithms&mdash;for D-Wave systems. It provides tools for working with Chimera and Pegasus graphs. "
   ]
  },
  {
   "attachments": {},
   "cell_type": "markdown",
   "metadata": {},
   "source": [
    "*dwave_networkx* provides functionality to create Chimera and Pegasus lattices of varying sizes. This first code cell creates Chimera and Pegasus graphs of size CN $=$ C16 and PN $=$ P16. \n",
    "\n",
    "The notation CN refers to a Chimera lattice consisting of an $NxN$ grid of *unit cells*. Unit cells are described in more detail below; for now it's sufficient to think of them as vertically and horizontally tiled, sparsely connected, groups of more densely connected qubits. The D-Wave 2000Q had a C16 lattice, meaning a grid of $16x16$ unit cells. The Advantage has a P16 lattice that is explored below. \n",
    "\n"
   ]
  },
  {
   "cell_type": "code",
   "execution_count": null,
   "metadata": {},
   "outputs": [],
   "source": [
    "import dwave_networkx as dnx\n",
    "\n",
    "chimera_16 = dnx.chimera_graph(16)\n",
    "pegasus_16 = dnx.pegasus_graph(16)\n",
    "\n",
    "print(\"Qubits in a full working graph: \\n    D-Wave 2000Q Chimera C16: {}\\n    Advantage Pegasus P16: {}\".format(\n",
    "      len(chimera_16.nodes), len(pegasus_16.nodes)))"
   ]
  },
  {
   "attachments": {},
   "cell_type": "markdown",
   "metadata": {},
   "source": [
    "Due to manufacturing variations and the need to prepare the QPU to operate at cryogenic temperatures in a low–magnetic field environment, the number of qubits available for computation on a QPU (the working graph's *yield*) is typically a bit lower than the maximum for the lattice size. These Ocean tools can also generate incomplete working graphs, as is done below in this notebook.\n",
    "\n",
    "*dwave_networkx* also provides graphing functions to visualize topologies. Notice the difference in density of qubits (green dots) and connectivity (black edges) between the two $16x16$ lattices below. "
   ]
  },
  {
   "cell_type": "code",
   "execution_count": null,
   "metadata": {},
   "outputs": [],
   "source": [
    "import matplotlib.pyplot as plt\n",
    "%matplotlib inline\n",
    "\n",
    "fig, ax = plt.subplots(1, 2, figsize=(14,6))\n",
    "\n",
    "dnx.draw_chimera(chimera_16, ax=ax[0], node_size=5, node_color='g')\n",
    "ax[0].set_title('Chimera C16', fontsize=18)\n",
    "\n",
    "dnx.draw_pegasus(pegasus_16, ax=ax[1], node_size=5, node_color='g')\n",
    "ax[1].set_title('Pegasus P16', fontsize=18)"
   ]
  },
  {
   "attachments": {},
   "cell_type": "markdown",
   "metadata": {},
   "source": [
    "## Test Case: Embedding Random Graphs \n",
    "Advantage was developed to meet D-Wave customers' need for increased capability to embed larger and more complex problems. The resulting Pegasus topology enables the embedding of problems with shorter chains, which can result in higher quality solutions, as demonstrated in section [Example Problem: RANr](#Example-Problem:-RANr).  \n",
    "\n",
    "To demonstrate the benefits of the Pegasus topology, the following subsections compare its performance with that of the Chimera. This is done by generating and embedding many random graphs that are representative of problems of sizes commensurate with the size of a D-Wave 2000Q QPU.   \n",
    "\n",
    "<style>.alert-info {color: #0399A9; background: #B2EBF3; border: 2px solid #4FD1E1; }</style>\n",
    "<div class=\"alert alert-info\" role=\"alert\" style=\"margin: 10px\">The demonstrations of this section do <b>not</b> submit problems to a D-Wave system for solution, and so are <b>not</b> associated with a cost for QPU usage time.</div>\n",
    "\n",
    "The next three code cells import three functions used throughout this section. You can see (and modify) the code for these functions in the ``helpers`` folder of this example's repository.\n",
    "\n",
    "* `random_graph` generates a random graph for the number of nodes and edges per node you specify.\n",
    "* `try_embedding` tries to embed given graphs in both Chimera and Pegasus topologies. \n",
    "* `embedding_loop` runs in a loop over the other two functions for a set of graph sizes and configurable embedding parameters. \n",
    "\n",
    "First, import and use the `random_graph` function to create a small random graph with 100 nodes and 2 edges per node."
   ]
  },
  {
   "cell_type": "code",
   "execution_count": null,
   "metadata": {},
   "outputs": [],
   "source": [
    "# Helper functions are in the \"helpers\" folder of this example's repository \n",
    "from helpers.embed import random_graph\n",
    "import networkx as nx\n",
    "import dimod \n",
    "\n",
    "G = random_graph(nodes=100, edges=2)"
   ]
  },
  {
   "attachments": {},
   "cell_type": "markdown",
   "metadata": {},
   "source": [
    "The three images of this cell give physical form to the connection between such a random graph and the submission of a problem to a quantum computer. For the graph below, that resulted from one execution of the `random_graph` function, a problem was generated by setting random values on its edges. Submitting this problem to two quantum computers produced the embeddings shown by the [dwave-inspector](https://docs.ocean.dwavesys.com/en/stable/docs_inspector/sdk_index.html) tool. \n",
    "\n",
    "<img src=\"images/random_graph_100_2.png\" width=300x/>\n",
    "\n",
    "An embedding on a D-Wave 2000Q:\n",
    "<img src=\"images/c16_random_graph_100_2.png\" width=700x/>\n",
    "\n",
    "An embedding on an Advantage:\n",
    "<img src=\"images/p16_random_graph_100_2.png\" width=700x/>\n",
    "\n",
    "Such graphs can represent any problem you might want to solve on a quantum computer. Successful, efficient embedding determines whether you can do so. "
   ]
  },
  {
   "attachments": {},
   "cell_type": "markdown",
   "metadata": {},
   "source": [
    "The second function, `try_embedding`, uses one of Ocean's embedding tools to find a minor-embedding for a given problem. You can configure the number or attempts this heuristic algorithm makes, `tries`, and a timeout value for those attempts, `timeout`. \n",
    "\n",
    "> **NOTE:** You can also update the code (located in the `helpers` folder for this notebook) to configure \n",
    "   additional embedding parameters, described here: [minorminer](https://docs.ocean.dwavesys.com/en/stable/docs_minorminer/source/sdk_index.html)\n",
    "\n",
    "Run it on the graph you generated in the previous code cell:"
   ]
  },
  {
   "cell_type": "code",
   "execution_count": null,
   "metadata": {},
   "outputs": [],
   "source": [
    "# Helper functions are in the \"helpers\" folder of this example's repository \n",
    "from helpers.embed import try_embedding\n",
    "import minorminer\n",
    "\n",
    "topologies_16 = {'Chimera': chimera_16, 'Pegasus': pegasus_16}\n",
    "\n",
    "try_embedding(source_graph=G, \n",
    "              target_graphs=topologies_16, \n",
    "              timeout=20, \n",
    "              tries=2)"
   ]
  },
  {
   "attachments": {},
   "cell_type": "markdown",
   "metadata": {},
   "source": [
    "The `try_embedding` function returns for both QPU topologies the longest chain it needed for the embedding. As mentioned above, for a group of qubits to act as a chain, you need to strongly couple them so that they tend to return a single value for the variable the chain represents. In this context \"strong\" is relative to values used for the problem's quadratic interactions, which are also represented by coupling strengths. Because coupling values have a finite range, relatively strong, long chains can come at the [cost](https://docs.dwavesys.com/docs/latest/handbook_embedding.html) of a smaller range of coupling strengths for representing the problem's quadratic interactions. \n",
    "\n",
    "The last of the three functions,`embedding_loop`, runs the two previous ones and saves some of the parameters and results in a [pandas](https://pandas.pydata.org/pandas-docs/stable/index.html) data structure for convenient analysis."
   ]
  },
  {
   "cell_type": "code",
   "execution_count": null,
   "metadata": {},
   "outputs": [],
   "source": [
    "# Helper functions are in the \"helpers\" folder of this example's repository \n",
    "from helpers.embed import embedding_loop\n",
    "import pandas as pd\n",
    "\n",
    "embedding_loop(nodes=10,   # Additional configuration parameters are demonstrated below\n",
    "               edges=5, \n",
    "               target_graphs=topologies_16)  "
   ]
  },
  {
   "attachments": {},
   "cell_type": "markdown",
   "metadata": {},
   "source": [
    "By default, `embedding_loop` generates two graphs for the given graph size and makes two embedding attempts for each topology. \n",
    "\n",
    "For graphs that are not very small, the performance of an embedding heuristic can vary significantly; some instances of the graphs generated by the `random_graph` function for particular input parameters might perform better on the Chimera topology, some on the Pegasus. For meaningful insight into the relative performance, one needs a statistically sufficient number of trials.  \n",
    "\n",
    "Results for large numbers of trials for some graph sizes are presented below. You can increase the number of graphs for sizes that interest you.      "
   ]
  },
  {
   "attachments": {},
   "cell_type": "markdown",
   "metadata": {},
   "source": [
    "## Performance on Sparse Graphs\n",
    "A graph is considered sparse to the extent that its $n$ nodes have fewer edges than a $K_n$ complete graph. For example, a graph representing a large transportation network is likely sparse because its many nodes (intersections) typically have just three or four edges (ingressing/egressing roads). \n",
    "\n",
    "As mentioned above, the difference most often highlighted between generations of QPUs is the increase in number of qubits. Intuitively, if the maximum problem size for a QPU were simply proportional to its number of qubits, sparse graphs should be the place to see that. One might imagine a string of qubits coupled head to tail, like a pearl necklace, representing the embedded nodes of a sparse graph. Should one expect the embedding limit for sparse graphs to increase from around 2,000 nodes on a D-Wave 2000Q to 5,000 on the Advantage?\n",
    "\n",
    "A graph where each node has only two edges is such a sparse problem.\n",
    "\n",
    "The figure below shows embedding results on C16 and P16 topologies for graphs with two edges per node, of sizes that range from 50 to 2,000 nodes: the x-axis is the graph size; the y-axis counts successful embeddings out of 10 random graphs, allowing two embedding attempts per graph.  \n",
    "\n",
    "<img src=\"images/16x16_problems10_edges2.png\" width=400x/>\n",
    "\n",
    "Try for yourself in the following cells.  "
   ]
  },
  {
   "attachments": {},
   "cell_type": "markdown",
   "metadata": {},
   "source": [
    "<style>.alert-danger { color: #C4453E; background: #F7CFD3; border: 2px solid #E29C9B; }</style>   \n",
    "<div class=\"alert alert-danger\" role=\"alert\" style=\"margin: 10px\"><p><b>Important</b>: Loops that run multiple attempts at embeddings on multiple graphs, some of them big, can take minutes to execute. To reduce runtimes, the code cells below run by default on quarter-sized, C8 and P8, graphs. You can run on the full-sized C16 and P16 graphs by setting the flag <code>fast_run=False</code> in the code cells below.</p></div>\n",
    "\n",
    "> **Note:** In this and similar code cells below, you can shorten the runtime by setting a lower value to the \n",
    "   `problems` parameter, which represents the number of graphs of each size, and/or modifying the loop variable, \n",
    "   `nodes`, to fewer and smaller values. You can also modify the `embedding_timeout` and `embedding_tries` parameters\n",
    "   used to configure the\n",
    "   [minorminer](https://docs.ocean.dwavesys.com/en/stable/docs_minorminer/source/sdk_index.html) embedding heuristic."
   ]
  },
  {
   "attachments": {},
   "cell_type": "markdown",
   "metadata": {},
   "source": [
    "Show information about the quarter-sized topology graphs used for fast execution. "
   ]
  },
  {
   "cell_type": "code",
   "execution_count": null,
   "metadata": {},
   "outputs": [],
   "source": [
    "chimera_8 = dnx.chimera_graph(8)\n",
    "pegasus_8 = dnx.pegasus_graph(8)\n",
    "\n",
    "topologies_8 = {'Chimera': chimera_8, 'Pegasus': pegasus_8}\n",
    "\n",
    "print(\"Qubits in quarter-sized topologies: \\n    Chimera C8: {} \\n    Pegasus P8: {}\".format(\n",
    "      len(chimera_8.nodes), len(pegasus_8.nodes)))"
   ]
  },
  {
   "attachments": {},
   "cell_type": "markdown",
   "metadata": {},
   "source": [
    "Without surpassing the number of nodes in the smaller Chimera topology, try embedding graphs of increasing size in both topologies. Keep an eye on the lengths of chains found for these embeddings.   "
   ]
  },
  {
   "cell_type": "code",
   "execution_count": null,
   "metadata": {},
   "outputs": [],
   "source": [
    "df_columns = [\"Nodes\", \"Edges\", \"Problem\", \"Longest Chain\"]\n",
    "\n",
    "num_nodes = [125, 250, 500]   # For C8 & P8\n",
    "topologies = topologies_8\n",
    "\n",
    "fast_run = True      # Set to False for C16 & P16\n",
    "if not fast_run:\n",
    "    num_nodes = [500, 1000, 2000]      \n",
    "    topologies = topologies_16\n",
    "\n",
    "row = []\n",
    "for nodes in num_nodes:\n",
    "    row += embedding_loop(nodes=nodes, \n",
    "                          edges=2,\n",
    "                          target_graphs=topologies,\n",
    "                          #embedding_timeout=60,\n",
    "                          #embedding_tries=2,\n",
    "                          #draw_problem = True,\n",
    "                          #problems = 2\n",
    "                          )\n",
    "\n",
    "results = pd.DataFrame(row, columns=df_columns)                       "
   ]
  },
  {
   "attachments": {},
   "cell_type": "markdown",
   "metadata": {},
   "source": [
    "Tabulate the results. Notice that even for sparse graphs, connectivity plays a crucial role in enabling you to embed large graphs on a QPU."
   ]
  },
  {
   "cell_type": "code",
   "execution_count": null,
   "metadata": {},
   "outputs": [],
   "source": [
    "results"
   ]
  },
  {
   "attachments": {},
   "cell_type": "markdown",
   "metadata": {},
   "source": [
    "Staying with very sparse graphs, increase the density from 2 edges per node to 3.\n",
    "\n",
    "The figure below shows embedding results on C16 and P16 topologies for graphs with three edges per node, of sizes that range from 50 to 1,000 nodes: the x-axis is the graph size; the y-axis counts successful embeddings out of 10 random graphs, allowing two embedding attempts per graph.  \n",
    "\n",
    "<img src=\"images/16x16_problems10_edges3.png\" width=400x/>\n",
    "\n",
    "By default, the code cells below run on quarter-sized topologies to shorten runtime but you can configure the loop as you wish.   "
   ]
  },
  {
   "cell_type": "code",
   "execution_count": null,
   "metadata": {},
   "outputs": [],
   "source": [
    "num_nodes = [24, 50, 100, 200]   # For C8 & P8\n",
    "topologies = topologies_8\n",
    "\n",
    "fast_run = True      # Set to False for C16 & P16\n",
    "if not fast_run:\n",
    "    num_nodes = [100, 200, 400, 800]      \n",
    "    topologies = topologies_16\n",
    "\n",
    "row = []\n",
    "for nodes in num_nodes:   \n",
    "    row += embedding_loop(nodes=nodes, \n",
    "                          edges=3,\n",
    "                          target_graphs=topologies,\n",
    "                          #embedding_timeout=60,\n",
    "                          #embedding_tries=2,\n",
    "                          #draw_problem = True,\n",
    "                          #problems = 2\n",
    "                          )\n",
    "    \n",
    "results = pd.DataFrame(row, columns=df_columns)    "
   ]
  },
  {
   "attachments": {},
   "cell_type": "markdown",
   "metadata": {},
   "source": [
    "Tabulate the results. Note the increasing chain lengths for even these very sparse graphs. "
   ]
  },
  {
   "cell_type": "code",
   "execution_count": null,
   "metadata": {},
   "outputs": [],
   "source": [
    "results"
   ]
  },
  {
   "attachments": {},
   "cell_type": "markdown",
   "metadata": {},
   "source": [
    "## Performance on Dense Graphs\n",
    "A graph of $n$ nodes is considered more dense to the extent that its number of edges approaches that of a $K_n$ complete graph. \n",
    "\n",
    "Many of today's business problems are represented by more densely connected graphs than the ones in the previous subsection. As you saw above, chain lengths grow as graph density increases. The ability to embed dense graphs, with relatively short chains, enables scaling of problem size and can significantly enhance application performance.\n",
    "\n",
    "This subsection increases the density of a relatively small (100 variables) graph and looks at embedding performance for Chimera and Pegasus topologies.\n",
    "\n",
    "The figure below shows embedding results on C16 and P16 topologies for graphs of 100 nodes, with a number of edges per node that ranges from 2 to 14: the x-axis is the density; the y-axis counts successful embeddings out of 10 random graphs, allowing two embedding attempts per graph.  \n",
    "\n",
    "<img src=\"images/16x16_problems10_edges_x.png\" width=400x/>\n",
    "\n",
    "By default, the code cell below runs on quarter-sized topologies to shorten runtime but you can configure the loop as you wish. "
   ]
  },
  {
   "cell_type": "code",
   "execution_count": null,
   "metadata": {},
   "outputs": [],
   "source": [
    "topologies = topologies_8\n",
    "\n",
    "fast_run = True      # Set to False for C16 & P16\n",
    "if not fast_run:\n",
    "    topologies = topologies_16\n",
    "\n",
    "row = []\n",
    "for edges in [2, 4, 8, 16]:   \n",
    "    row += embedding_loop(nodes=100, \n",
    "                          edges=edges,\n",
    "                          target_graphs=topologies,\n",
    "                          #embedding_timeout=60,\n",
    "                          #embedding_tries=2,\n",
    "                          #draw_problem = True,\n",
    "                          #problems = 2                  \n",
    "                          )\n",
    "    \n",
    "results = pd.DataFrame(row, columns=df_columns)"
   ]
  },
  {
   "attachments": {},
   "cell_type": "markdown",
   "metadata": {},
   "source": [
    "Tabulate and then plot the results."
   ]
  },
  {
   "cell_type": "code",
   "execution_count": null,
   "metadata": {},
   "outputs": [],
   "source": [
    "results"
   ]
  },
  {
   "cell_type": "code",
   "execution_count": null,
   "metadata": {},
   "outputs": [],
   "source": [
    "# Helper functions are in the \"helpers\" folder of this example's repository \n",
    "from helpers.draw import histogram_chains_edges\n",
    "\n",
    "histogram_chains_edges(results)"
   ]
  },
  {
   "attachments": {},
   "cell_type": "markdown",
   "metadata": {},
   "source": [
    "These last two subsections highlighted two points: \n",
    "\n",
    "* A topology with denser connectivity enables you to scale up your problems (graphs) in terms of both the number of variables (nodes) and the density of the variables' interactions (edges). As noted above, a D-Wave 2000Q had over 2,000 qubits while the Advantage has over 5,000, and that increase is important; however, you should now also recognize the significance of increasing the number of couplers from over 5,500 on a D-Wave 2000Q to over 35,000 on the Advantage. \n",
    "* Real-time applications should take into consideration the computation time of minor-embedding heuristic algorithms. Subsection [Performance on Cliques](#Performance-on-Cliques) below shows one way of doing so. "
   ]
  },
  {
   "attachments": {},
   "cell_type": "markdown",
   "metadata": {},
   "source": [
    "## Performance on Cliques\n",
    "Embeddings for cliques (fully connected graphs) can be very useful. A minor-embedding for a $K_n$ clique can be used for all minors of that graph. This means that if your application needs to submit to the QPU a series of problems of up to $n$ variables, having an embedding for the $K_n$ graph lets you simply reuse it for all those submissions, saving the embedding-computation time in your application's runtime execution.  \n",
    "\n",
    "As an intuitive example, the $K_3$ minor-embedding described above for the AND example can be reused to embed a two-variable problem, $5x_1x_2$, by not setting the values of variable $z$ and its couplers:\n",
    "\n",
    "<img src=\"images/embedding_clique_k3_2vars.png\" width=500x/>\n",
    "\n",
    "\n",
    "> **Note:** If your problems are represented by sparse graphs, using a clique embedding can be (1) wasteful of \n",
    "   qubits, needlessly limiting the size of problem you can embed and (2) result in longer chains and possibly \n",
    "   lower-quality solutions."
   ]
  },
  {
   "attachments": {},
   "cell_type": "markdown",
   "metadata": {},
   "source": [
    "### Embedding in a Single Unit Cell \n",
    "Many problems have repetitive structures or can be formulated with repeated, small elements; for example, [problems expressed using Boolean elements](https://docs.ocean.dwavesys.com/en/stable/examples/multi_gate.html) such as the AND expression above. In such cases, it's advantageous to minor-embed the problem in a way that exploits the lattice structure of the QPU.  \n",
    "\n",
    "QPU architecture is described in more detail in the [documentation](https://docs.dwavesys.com/docs/latest/c_gs_4.html) and below; for now it's sufficient to know that the Chimera topology's structure is a grid of unit cells, each with four horizontal qubits connected to four vertical qubits via couplers. Graphs that can be split into two sets of vertices, with all vertices of one set connected to all vertices of the second, are known as *bicliques* or complete bipartite graphs; a Chimera unit cell is a $K_{4,4}$ [biclique](https://en.wikipedia.org/wiki/Complete_bipartite_graph). Unit cells are tiled vertically and horizontally with adjacent qubits connected, creating a lattice of sparsely connected qubits.\n",
    "\n",
    "The figure below shows a C3 $3x3$ lattice of Chimera unit cells.\n",
    "\n",
    "<img src=\"images/chimera.png\" width=300x/>\n",
    "\n",
    "If repeated structures of a problem can be embedded in a unit cell, you might then be able to duplicate that across unit cells and interconnect these in a very efficient overall embedding. "
   ]
  },
  {
   "attachments": {},
   "cell_type": "markdown",
   "metadata": {},
   "source": [
    "Try minor-embedding cliques of varying sizes into a Chimera unit cell and its near counterpart structure in the Pegasus topology,&mdash;explained in the [Navigating the Topology](#Navigating-the-Topology) section,&mdash;a $K_{4,4}$ biclique with additional couplers connecting some horizontal and vertical qubits to similarly aligned qubits.\n",
    "\n",
    "This first cell draws these two structures. As before, the `draw_chimera` function represents qubits with green dots and couplers with black edges. Notice, for the Pegasus structure on the right, the extra edges between qubit pairs $(4, 5)$, $(6, 7)$, $(40, 41)$, and $(42, 43)$. "
   ]
  },
  {
   "cell_type": "code",
   "execution_count": null,
   "metadata": {},
   "outputs": [],
   "source": [
    "chimera_1 = dnx.chimera_graph(1)\n",
    "pegasus_k44 = dnx.pegasus_graph(2, node_list=[4, 5, 6, 7, 40, 41, 42, 43])\n",
    "\n",
    "fig, ax = plt.subplots(1, 2, figsize=(16,8))\n",
    "\n",
    "dnx.draw_chimera(chimera_1, ax=ax[0], node_size=1000, with_labels=True, node_color='g')\n",
    "ax[0].set_title('Chimera C1', fontsize=18)\n",
    "\n",
    "dnx.draw_pegasus(pegasus_k44, ax=ax[1], node_size=1000, with_labels=True, node_color='g', crosses=True)\n",
    "ax[1].set_title('Pegasus $K_{4,4}$ Plus 4 Couplers', fontsize=18)"
   ]
  },
  {
   "cell_type": "code",
   "execution_count": null,
   "metadata": {
    "scrolled": true
   },
   "outputs": [],
   "source": [
    "def max_chain_length(embedding):\n",
    "    return max(map(len, embedding.values()))\n",
    "\n",
    "for variables in range(2, 7):\n",
    "    \n",
    "    try:\n",
    "        embedding = minorminer.find_embedding(nx.complete_graph(variables), chimera_1.edges)\n",
    "        print(\"Chimera: embedded {} variables with longest chain of {}.\".format(variables, max_chain_length(embedding)))\n",
    "    except ValueError:\n",
    "        print(\"Chimera: embedding {} variables failed.\".format(variables))\n",
    "\n",
    "    try:\n",
    "        embedding = minorminer.find_embedding(nx.complete_graph(variables), pegasus_k44.edges)\n",
    "        print(\"Pegasus: embedded {} variables with longest chain of {}.\\n\".format(variables, max_chain_length(embedding)))\n",
    "    except ValueError:\n",
    "        print(\"Pegasus: embedding {} variables failed.\\n\".format(variables))"
   ]
  },
  {
   "attachments": {},
   "cell_type": "markdown",
   "metadata": {},
   "source": [
    "Below are [dwave-inspector](https://docs.ocean.dwavesys.com/en/stable/docs_inspector/sdk_index.html) images of a $K_5$ clique embedded in a Chimera unit cell and a $K_6$ clique embedded in the counterpart Pegasus structure:\n",
    "\n",
    "<img src=\"images/k_55_chimera.png\" width=400x/>\n",
    "\n",
    "<img src=\"images/k_66_pegasus.png\" width=400x/>"
   ]
  },
  {
   "attachments": {},
   "cell_type": "markdown",
   "metadata": {},
   "source": [
    "### Largest Cliques\n",
    "\n",
    "Clique embedding is particularly sensitive to the yield of working graphs, and even dependent on locations of missing nodes and edges. If you consider that increasing the clique size from 50 to 51, for example, requires coupling node 51 to the previous 50 nodes across a two-dimensional, sparsely connected graph, you can see how steeply this difficulty grows with problem size.\n",
    "\n",
    "For a given maximum chain length, you can embed cliques of about the following sizes in Pegasus P16 and Chimera C16 topologies with working graphs simulating 95% yield (by random removal of 5% of nodes and 0.5% of edges to represent inactivate qubits and couplers):\n",
    "\n",
    "| Chain Length | 1 | 2  | 3  | 4  | 5  | 6  | 7  | 8  | 9  | 10  | \n",
    "|--------------|---|----|----|----|----|----|----|----|----|-----|\n",
    "| Chimera      | 2 | 4  | 8  | 12 | 16 | 19 | 22 | 25 | 26 | 28  |  \n",
    "| Pegasus      | 4 | 10 | 20 | 30 | 41 | 49 | 56 | 61 | 66 | 71  |  \n",
    "\n",
    "You can see that for the same chain length, the Pegasus P16 topology achieves about double the clique sizes of its counterpart C16 Chimera topology, which requires quadruple the couplings. \n",
    "\n",
    "QPUs in D-Wave 2000Q systems, which was first released in 2017, achieved yields of 99% and higher. For a chain length of 10, such a QPU could embed a clique of size 35. Similarly, yield on Advantage QPUs has increased over time. \n",
    "\n",
    "The next subsection demonstrates performance on actual working graphs of QPUs."
   ]
  },
  {
   "attachments": {},
   "cell_type": "markdown",
   "metadata": {},
   "source": [
    "## Performance on a QPU Working Graph\n",
    "In most the preceding subsections you embedded into working graphs representing QPUs with 100% yields. This subsection looks at embedding for real-world QPUs. "
   ]
  },
  {
   "attachments": {},
   "cell_type": "markdown",
   "metadata": {},
   "source": [
    "### Solver Yield\n",
    "Access an Advantage sytem."
   ]
  },
  {
   "cell_type": "code",
   "execution_count": null,
   "metadata": {},
   "outputs": [],
   "source": [
    "import os\n",
    "\n",
    "from dwave.system.samplers import DWaveSampler\n",
    "from dwave.cloud.exceptions import *\n",
    "\n",
    "try:\n",
    "    qpu_advantage = DWaveSampler(solver={'topology__type': 'pegasus'})   \n",
    "    print(\"Connected to Advantage {}.\".format(qpu_advantage.solver.id))\n",
    "except SolverNotFoundError:\n",
    "    print(\"You currently cannot access an Advantage. Try these examples once you have access.\")"
   ]
  },
  {
   "attachments": {},
   "cell_type": "markdown",
   "metadata": {},
   "source": [
    "Print the yield. For comparison, in May 2023 D-Wave 2000Q system ``DW_2000Q_6`` had a working graph with 99.66% yield."
   ]
  },
  {
   "cell_type": "code",
   "execution_count": null,
   "metadata": {},
   "outputs": [],
   "source": [
    "qpu_yield = 100-round(100*(len(pegasus_16.nodes) - len(qpu_advantage.nodelist))/len(pegasus_16.nodes), 2)\n",
    "    \n",
    "print(\"{} has a working graph with {}% yield.\".format(qpu_advantage.solver.name, qpu_yield))"
   ]
  },
  {
   "attachments": {},
   "cell_type": "markdown",
   "metadata": {},
   "source": [
    "### Embed Random Graphs\n",
    "This subsection lets you explore the embedding performance of a currently available QPU for graphs of sizes similar to those of problems that interest you. \n",
    "\n",
    "First, read the active qubits and couplers from the QPU and create a target graph with nodes and edges representing only available qubits and couplers."
   ]
  },
  {
   "cell_type": "code",
   "execution_count": null,
   "metadata": {},
   "outputs": [],
   "source": [
    "p16_working_graph = dnx.pegasus_graph(16, \n",
    "                                      node_list=qpu_advantage.nodelist,\n",
    "                                      edge_list=qpu_advantage.edgelist)"
   ]
  },
  {
   "attachments": {},
   "cell_type": "markdown",
   "metadata": {},
   "source": [
    "Using the same test cases and code as the previous subsections, set values for the `num_nodes` and `num_edges` parameters that are relevant to your problem sizes. \n",
    "\n",
    "Alternatively, use the current parameters or set random new ones. Remember that multiple embedding calculations for large graphs can take time. (The current parameters were chosen for short runtime.) For comparison, one arbitrary execution of the following code in May 2023 on D-Wave 2000Q system ``DW_2000Q_6`` resulted in a longest chain of 4 qubits. "
   ]
  },
  {
   "cell_type": "code",
   "execution_count": null,
   "metadata": {},
   "outputs": [],
   "source": [
    "k = 20   # Clique size\n",
    "\n",
    "try:\n",
    "    embedding = minorminer.find_embedding(nx.complete_graph(k), p16_working_graph.edges)\n",
    "    print(\"Embedded a K_{} clique with longest chain of {}.\\n\".format(k, max_chain_length(embedding)))\n",
    "except ValueError:\n",
    "        print(\"Embedding a K_{} clique failed.\\n\".format(variables))"
   ]
  },
  {
   "cell_type": "code",
   "execution_count": null,
   "metadata": {},
   "outputs": [],
   "source": [
    "# Random graph\n",
    "df_columns = [\"Nodes\", \"Edges\", \"Problem\", \"Longest Chain\"]\n",
    "\n",
    "num_nodes = [10, 50]   \n",
    "num_edges = [2, 5]\n",
    "\n",
    "row = []\n",
    "for nodes in num_nodes:\n",
    "    for edges in num_edges:\n",
    "        row += embedding_loop(nodes=nodes, \n",
    "                          edges=edges,\n",
    "                          target_graphs={qpu_advantage.solver.name: p16_working_graph},\n",
    "                          #embedding_timeout=60,\n",
    "                          #embedding_tries=2,\n",
    "                          #draw_problem = True,\n",
    "                          #problems = 2\n",
    "                          )\n",
    "\n",
    "results = pd.DataFrame(row, columns=df_columns) \n",
    "results"
   ]
  },
  {
   "attachments": {},
   "cell_type": "markdown",
   "metadata": {},
   "source": [
    "You can mostly leave minor-embedding to Ocean, but sometimes some manual adjustments can enhance the performance for your problem. The next section helps you understand the new topology. \n",
    "\n",
    "Additional information on performance and the new topology is found in techinical report 14-1026A, *Next-Generation Topology of D-Wave Quantum Processors*, available on the [D-Wave website](https://www.dwavesys.com/)."
   ]
  },
  {
   "attachments": {},
   "cell_type": "markdown",
   "metadata": {},
   "source": [
    "# Navigating the Topology\n",
    "The previous section demonstrated the importance of QPU connectivity for embedding problems on a quantum computer. That connectivity is proportional to the number of its couplers: a D-Wave 2000Q had up to 6,016 couplers; an Advantage has up to 40,484 couplers. \n",
    "\n",
    "The previous section also mentioned the lattice structure of the Chimera QPU and its relevance to embedding for such problems as those formulated with Boolean gates.\n",
    "\n",
    "These are two faces of one coin: lattice structure is determined by qubit couplings which are enabled by the structure. \n",
    "\n",
    "This section describes the new topology and presents Ocean tools that help you use it."
   ]
  },
  {
   "attachments": {},
   "cell_type": "markdown",
   "metadata": {},
   "source": [
    "## Chimera Topology\n",
    "The Chimera topology is simple to visualize, and understanding how to navigate it goes a long way to grasping the more complex Pegasus topology. \n",
    "\n",
    "Qubits in the Chimera topology are oriented on the QPU vertically or horizontally, and coupled by one of two categories of couplers:\n",
    "\n",
    "* *Internal couplers* connect pairs of orthogonal (with opposite orientation) qubits. Each qubit is connected via internal coupling to 4 other qubits.\n",
    "\n",
    "* *External couplers* connect colinear pairs of qubits&mdash;pairs of parallel qubits in the same row or column.\n",
    "\n",
    "In the figure below, green circles at the intersections of qubits signify internal couplers; external couplers, shown as connected blue circles, couple horizontal qubits to adjacent horizontal qubits and (not shown in this single-row lattice) vertical qubits to adjacent vertical qubits. For example, the green horizontal qubit in the center couples internally to four vertical qubits, bolded black, in its own unit cell, and to the two blue horizontal qubits in adjacent unit cells. \n",
    "\n",
    "<img src=\"images/chimera_couplers.png\" width=500x/>\n",
    "\n",
    "Chimera qubits are characterized as having:\n",
    "\n",
    "* Nominal length 4&mdash;each qubit is connected to 4 orthogonal qubits through internal couplers.\n",
    "* Degree 6&mdash;each qubit is coupled to 6 different qubits."
   ]
  },
  {
   "attachments": {},
   "cell_type": "markdown",
   "metadata": {},
   "source": [
    "Plot four Chimera unit cells. Outputs of the `draw_chimera` function  represent unit cells with groupings of eight dots in a cross formation. The dots in the horizontal bar of the cross represent the qubits referred to as having a vertical orientation to the QPU while those on the vertical bar represent horizontally oriented qubits.  \n",
    "\n",
    "Notice two points:\n",
    "* Numbering: qubit numbering incrementing along first the horizontal shores of unit cells (vertically oriented qubits) and then the vertical shores.\n",
    "* Couplings: internal couplers connecting vertical and horizontal qubits of each cell (short edges) and external couplers connecting similarly oriented qubits of different unit cells."
   ]
  },
  {
   "cell_type": "code",
   "execution_count": null,
   "metadata": {},
   "outputs": [],
   "source": [
    "chimera_2 = dnx.chimera_graph(2)\n",
    "    \n",
    "dnx.draw_chimera(chimera_2, with_labels=True, node_size=500, node_color='g')\n",
    "plt.show()"
   ]
  },
  {
   "attachments": {},
   "cell_type": "markdown",
   "metadata": {},
   "source": [
    "Qubits in the preceding depictions are given an indexical label, but when exploiting the topology's structure, you might find a structure-based coordinate system more helpful. For navigating the lattice, for example, you might prefer coordinates based on qubit position in a unit cell and the cell's place in the lattice grid.\n",
    "\n",
    "For an $m$-by-$n$ Chimera lattice, connections can be expressed using a node-indexing notation, $(i,j,u,k)$, for each node.\n",
    "\n",
    "* $(i,j)$ indexes the (row, column) of the Chimera unit cell. $i$ must be between $0$ and $m-1$, inclusive, and $j$ must be between $0$ and $n-1$, inclusive.\n",
    "* $u=0$ indicates the left-hand nodes in the unit cell, and $u=1$ indicates the right-hand nodes.\n",
    "* $k=0,1,…,t-1$ indexes nodes within either the left- or right-hand shores of a unit cell.\n",
    "\n",
    "For the C2 Chimera lattice above, show the *Chimera coordinate* of the second vertical and horizontal qubit in each cell:"
   ]
  },
  {
   "cell_type": "code",
   "execution_count": null,
   "metadata": {},
   "outputs": [],
   "source": [
    "for i in range(1, 32, 4):\n",
    "    print(\"Qubit {} has Chimera coordinates {}.\".format(i, chimera_2.nodes(data=True)[i]['chimera_index']))"
   ]
  },
  {
   "attachments": {},
   "cell_type": "markdown",
   "metadata": {},
   "source": [
    "This output shows the (row, column) part of the coordinate increasing from $(0, 0)$ for top left to $(1, 1)$ for bottom right, the $u$ part alternating between $0$ and $1$ for vertical and horizontal shores, and $k=1$ for the second qubit of 4 in each shore. \n",
    "\n",
    "Ocean utilities are available to translate between coordinates:"
   ]
  },
  {
   "cell_type": "code",
   "execution_count": null,
   "metadata": {},
   "outputs": [],
   "source": [
    "coords = dnx.chimera_coordinates(2)\n",
    "\n",
    "i = 13\n",
    "c = (1, 1, 0, 1)\n",
    "\n",
    "print(\"Qubit {} has Chimera coordinates {}.\".format(i, coords.linear_to_chimera(i)))\n",
    "print(\"Chimera coordinates {} designate qubit {}.\".format(c, coords.chimera_to_linear(c)))"
   ]
  },
  {
   "attachments": {},
   "cell_type": "markdown",
   "metadata": {},
   "source": [
    "## Pegasus Topology\n",
    "Pegasus qubits are also oriented on the QPU vertically or horizontally but they are coupled by one of *three* categories of couplers:\n",
    "\n",
    "* Internal couplers connect pairs of orthogonal (with opposite orientation) qubits. Each qubit is connected via internal coupling to 12 other qubits.\n",
    "\n",
    "* External couplers connect vertical qubits to adjacent vertical qubits and horizontal qubits to adjacent horizontal qubits.\n",
    "\n",
    "* *Odd couplers* connect similarly aligned pairs of qubits in the same Chimera unit cell, a vertical qubit to another vertical qubit and a horizontal qubit to another horizontal qubit.\n",
    "\n",
    "The figure below provides a helpful way to envision a recurring structure of the Pegasus topology, similar to the unit cells of Chimera: the division of\n",
    "internal couplings into $K_{4,4}$ bipartite graphs abstracted as three layers of\n",
    "Chimera lattices. In this abstraction, each qubit forms part, through its\n",
    "internal couplers, of a Chimera unit cell in one layer (translucent green square) while\n",
    "additionally coupling to four qubits of a unit cell in a second layer (translucent blue square)\n",
    "and two qubits each of two units cells in a third layer (translucent pink squares).\n",
    "\n",
    "<img src=\"images/pegasus_zlayered_unitcells.png\" width=400x/>\n",
    "\n",
    "Pegasus qubits are characterized as having:\n",
    "\n",
    "* Nominal length 12.\n",
    "* Degree 15."
   ]
  },
  {
   "attachments": {},
   "cell_type": "markdown",
   "metadata": {},
   "source": [
    "### Qubit Indices\n",
    "Plot a P2 Pegasus graph. \n",
    "\n",
    "In the [Embedding in a Single Unit Cell](#Embedding-in-a-Single-Unit-Cell) subsection, you plotted a P2 graph  for just 8 nodes. It was noted there that the Pegasus counterpart structure to Chimera's unit cell is a $K_{4,4}$ biclique with additional couplers&mdash;these are its *odd* couplers. Outputs of the `draw_pegasus` function represent these structures with groupings of eight dots in crossed bars. The dots in the horizontal bar represent the qubits referred to as having a vertical orientation to the QPU while those on the vertical bar represent horizontally oriented qubits.  "
   ]
  },
  {
   "cell_type": "code",
   "execution_count": null,
   "metadata": {},
   "outputs": [],
   "source": [
    "pegasus_2 = dnx.pegasus_graph(2)\n",
    "    \n",
    "dnx.draw_pegasus(pegasus_2, with_labels=True, node_size=500, node_color='g', crosses=True)\n",
    "plt.show()"
   ]
  },
  {
   "attachments": {},
   "cell_type": "markdown",
   "metadata": {},
   "source": [
    "Notice that the qubit numbering is less straightforward than for the Chimera, incrementing along horizontal shores (vertically oriented qubits) of three $K_{4,4}$ structures from left to right and then vertical shores from right to left. Fortunately, Pegasus too has additional, more friendly coordinate systems available. \n",
    "\n",
    "For one random qubit, horizontal qubit 36 in the center of the graph above, plot the internally coupled qubits of each of the three layers of unit cells, plus its oddly coupled qubit. \n",
    "\n",
    "First identify the adjacent (coupled) qubits. "
   ]
  },
  {
   "cell_type": "code",
   "execution_count": null,
   "metadata": {},
   "outputs": [],
   "source": [
    "print(\"Qubit 36 is coupled to qubits {}.\".format(pegasus_2.adj[36]))"
   ]
  },
  {
   "attachments": {},
   "cell_type": "markdown",
   "metadata": {},
   "source": [
    "Plot qubit 36 in bold green, the internally coupled qubits in three colors, and the oddly coupled qubit in red."
   ]
  },
  {
   "cell_type": "code",
   "execution_count": null,
   "metadata": {},
   "outputs": [],
   "source": [
    "horizontal = dnx.pegasus_graph(2, node_list=[36])\n",
    "odd = dnx.pegasus_graph(2, node_list=[37])\n",
    "green = dnx.pegasus_graph(2, node_list=[node for node in range(8, 12)])\n",
    "blue = dnx.pegasus_graph(2, node_list=[node for node in range(12, 16)])\n",
    "red = dnx.pegasus_graph(2, node_list=[6, 7, 16, 17])\n",
    "\n",
    "fig, ax = plt.subplots(1, 1, figsize=(10,10))\n",
    "\n",
    "dnx.draw_pegasus(pegasus_2, ax=ax, with_labels=True, node_size=500, node_color='y', crosses=True)\n",
    "dnx.draw_pegasus(horizontal, ax=ax, node_size=800, node_color='g', crosses=True)\n",
    "dnx.draw_pegasus(odd, ax=ax, node_color='r', crosses=True)\n",
    "dnx.draw_pegasus(green, ax=ax, node_color='lightgreen', crosses=True)\n",
    "dnx.draw_pegasus(blue, ax=ax, node_color='lightblue', crosses=True)\n",
    "dnx.draw_pegasus(red, ax=ax, node_color='lightcoral', crosses=True)"
   ]
  },
  {
   "attachments": {},
   "cell_type": "markdown",
   "metadata": {},
   "source": [
    "Notice that for larger sized outputs of `draw_pegasus` the horizontal and verticals bars of $K_{4,4}$ structures are more visibly separated into pairs of oddly coupled qubits. \n",
    "\n",
    "### Pegasus Coordinates\n",
    "The Pegasus coordinates of a node, $(u,w,k,z)$, can be interpreted as:\n",
    "\n",
    "* $u$ is qubit orientation: $0$ for vertical and $1$ for horizontal.\n",
    "* $w$ is orthogonal major offset: increments rightward over unit cells for vertically oriented qubits and downward for horizontally oriented qubits.\n",
    "* $k$ is orthogonal minor offset: increments rightward over qubits for vertically oriented qubits and downward for horizontally oriented qubits.\n",
    "* $z$ is parallel offset: increments downward over unit cells for vertically oriented qubits and rightward for horizontally oriented qubits.\n",
    "\n",
    "For the above example of qubits internally coupled to qubit 36: "
   ]
  },
  {
   "cell_type": "code",
   "execution_count": null,
   "metadata": {},
   "outputs": [],
   "source": [
    "for i in list(blue.nodes) + list(green.nodes) + list(red.nodes) + list(odd):\n",
    "    print(\"Qubit {} has Pegasus coordinates {}.\".format(i, pegasus_2.nodes(data=True)[i]['pegasus_index']))"
   ]
  },
  {
   "attachments": {},
   "cell_type": "markdown",
   "metadata": {},
   "source": [
    "In these coordinates:\n",
    "\n",
    "* $u=1$ for horizontally oriented qubits 36 (and oddly coupled 37) and $u=0$ for qubits internally coupled to qubit 36, which are vertical.\n",
    "* $w$ increases from left to right over the internally coupled qubits (these qubits have vertical orientation so orthogonal offset is the horizontal axis). A shift in major offset happens between qubits 11 and 12. \n",
    "* $k$ increases with each subsequent internally coupled qubit, also from left to right. \n",
    "* $z$ increases downward (the parallel&mdash;vertical&mdash;axis has its zero at the top).\n",
    "\n",
    "You can use the conversion utility to become comfortable with these coordinates."
   ]
  },
  {
   "cell_type": "code",
   "execution_count": null,
   "metadata": {},
   "outputs": [],
   "source": [
    "coords = dnx.pegasus_coordinates(2)\n",
    "\n",
    "i = 36\n",
    "c = (1, 1, 1, 0)\n",
    "\n",
    "print(\"Qubit {} has Pegasus coordinates {}.\".format(i, coords.linear_to_pegasus(i)))\n",
    "print(\"Pegasus coordinates {} designate qubit {}.\".format(c, coords.pegasus_to_linear(c)))"
   ]
  },
  {
   "attachments": {},
   "cell_type": "markdown",
   "metadata": {},
   "source": [
    "### Nice Coordinates\n",
    "Pegasus has an additional set of \"nice\" coordinates, $(t,y,x,u,k)$, more compatible with Chimera addressing, where,\n",
    "\n",
    "* $0<=x<M$−$1$ is the row.\n",
    "* $0<=y<M$−$1$ is the column.\n",
    "* $0<=u<2$ is the orientation, with $0$ for vertical and $1$ for horizontal.\n",
    "* $0<=k<4$ is the position on a shore of a Chimera unit cell.\n",
    "* $0<=t<3$ is one of the three layers of Chimera cells. \n",
    "\n",
    "Formally, for any given $0<=t0<3$, the subgraph of nodes with $t=t0$ has the structure of Chimera $(M-1, M-1, 4)$ with the addition of odd couplers. The following explains these coordinates through a simple example.\n",
    "\n",
    "Convert qubit 36 of the preceding examples to Pegasus nice coordinates:"
   ]
  },
  {
   "cell_type": "code",
   "execution_count": null,
   "metadata": {},
   "outputs": [],
   "source": [
    "i = 36\n",
    "\n",
    "print(\"Qubit {} has Pegasus nice coordinates {}.\".format(i, coords.linear_to_nice(i)))"
   ]
  },
  {
   "attachments": {},
   "cell_type": "markdown",
   "metadata": {},
   "source": [
    "Given $(t,y,x,u,k) = (1, 0, 0, 1, 0)$ in nice coordinates, it's easy to see which qubits are part of qubit 36's (green) unit cell: \n",
    "\n",
    "* Set $t=1$ because it is $1$ for qubit 36.\n",
    "* Set $x,y=0,0$ for the same row and column.\n",
    "* Set $u=1$ for horizontal and $u=0$ for vertical qubits.\n",
    "* Iterate on $k$ for $4$ horizontal and $4$ vertical qubits. \n",
    "\n",
    "The Chimera unit cell is therefore $(1, 0, 0, u, k)$ with $u$ specifying the orientation and $k$ one of four qubits for that orientation."
   ]
  },
  {
   "cell_type": "code",
   "execution_count": null,
   "metadata": {},
   "outputs": [],
   "source": [
    "green_horizontal = [(1, 0, 0, 1, k) for k in range(4)]\n",
    "green_vertical = [(1, 0, 0, 0, k) for k in range(4)]\n",
    "\n",
    "for i in green_horizontal + green_vertical:\n",
    "    print(\"Qubit {} for Pegasus nice coordinates {}.\".format(coords.nice_to_linear(i), i))"
   ]
  },
  {
   "attachments": {},
   "cell_type": "markdown",
   "metadata": {},
   "source": [
    "## Example: 16-Qubit Problem\n",
    "Typically embedding is handled automatically by Ocean software, but because the purpose of this section is to gain familiarity with the Pegasus topology, here you will manually embed a problem.\n",
    "\n",
    "The example problem is the 16-qubit system shown below, which was studied in https://www.nature.com/articles/ncomms2920, where dots are qubits, with colors representing bias values, and lines represent couplings (coupling strengths are all $-1$).\n",
    " \n",
    "<img src='images/16q_system.png'>\n",
    "\n",
    "This problem is a system of qubits, not a graph whose nodes and edges represent variables and their interactions. To study its behavior, the QPU's qubits must be programmed to manifest a one-to-one representation of this quantum system. This can be viewed as embedding it in a QPU with each of the problem's qubits represented by a corresponding QPU qubit; i.e., without using chains."
   ]
  },
  {
   "attachments": {},
   "cell_type": "markdown",
   "metadata": {},
   "source": [
    "### Chimera Embedding\n",
    "This problem is a perfect fit to the Chimera topology. This code cell displays one possible embedding, using qubits 0 to 15. QPUs typically do not have fabrication yields of 100% so it is not guaranteed that a particular system's working graph has all the required qubits and couplers in the first two Chimera unit cells. If not, this same embedding can be shifted to any other pair of adjacent unit cells. \n",
    "\n",
    "Start with two adjacent Chimera unit cells."
   ]
  },
  {
   "cell_type": "code",
   "execution_count": null,
   "metadata": {},
   "outputs": [],
   "source": [
    "chimera_1_2 = dnx.chimera_graph(2, node_list=range(16))    \n",
    "fig, ax = plt.subplots(1, 1, figsize=(10,5))\n",
    "\n",
    "dnx.draw_chimera(chimera_1_2, ax=ax, with_labels=True, node_size=500, node_color='g')"
   ]
  },
  {
   "attachments": {},
   "cell_type": "markdown",
   "metadata": {},
   "source": [
    "As an exercise, the next two code cells let you select nodes to represent the problem's qubits. The next step will be to couple these qubits by selecting edges. \n",
    "\n",
    "<div class=\"alert alert-success\" role=\"alert\" style=\"margin: 10px\"> \n",
    "    <p><b>Exercise:</b> In the first exercise code cell below, try filling in the blue, red, and white nodes. Run the second exercise code cell to check your work. You can iterate on these two cells until you get it right.</p><p><b>Open the hidden solution code cell and run it and the second exercise code cell before continuing to subsequent cells.</b></p></div>"
   ]
  },
  {
   "cell_type": "code",
   "execution_count": null,
   "metadata": {
    "solution2": "hidden",
    "solution2_first": true
   },
   "outputs": [],
   "source": [
    "# Exercise code cell #1\n",
    "nodes_blue = [1, 2, 5]\n",
    "nodes_red = [0, 3]\n",
    "nodes_white = [6]"
   ]
  },
  {
   "cell_type": "code",
   "execution_count": null,
   "metadata": {
    "jupyter": {
     "source_hidden": true
    },
    "solution2": "hidden"
   },
   "outputs": [],
   "source": [
    "# Click here to see solution:  \n",
    "nodes_blue = [1, 2, 5, 9, 10, 14]\n",
    "nodes_red = [0, 3, 4, 7, 8, 11, 12, 15]\n",
    "nodes_white = [6, 13]"
   ]
  },
  {
   "cell_type": "code",
   "execution_count": null,
   "metadata": {},
   "outputs": [],
   "source": [
    "# Exercise code cell #2\n",
    "from helpers.draw import draw_q16  # To see helper functions, select Jupyter File Explorer View from the Online Learning page\n",
    "\n",
    "draw_q16(chimera_1_2, (\"Chimera\", 2), \n",
    "         nodes_red, nodes_blue, nodes_white, \n",
    "         \"dotted\")"
   ]
  },
  {
   "attachments": {},
   "cell_type": "markdown",
   "metadata": {},
   "source": [
    "<div class=\"alert alert-success\" role=\"alert\" style=\"margin: 10px\"> <p><b>Exercise:</b> In the exercise code cell below, try filling in the edges (representing couplers) that connect the nodes (qubits). You can either directly set just the <code>edges</code> variable to a list of all needed edges or use the proposed lists that divide the nodes by color. You can iterate on these two cells until you get it right.</p><p><b>Open the hidden solution code cell and run it and the second exercise code cell before continuing to subsequent cells.</b></p></div>"
   ]
  },
  {
   "cell_type": "code",
   "execution_count": null,
   "metadata": {
    "solution2": "hidden",
    "solution2_first": true
   },
   "outputs": [],
   "source": [
    "# Exercise code cell #1\n",
    "blue_blue = [(1, 5), (2, 5)]\n",
    "red_blue = [(0, 5), (4, 2), (7, 1)]\n",
    "red_white= [(3, 6)]\n",
    "blue_white = [(1, 6), (2, 6)]\n",
    "\n",
    "edges = blue_blue + red_blue + red_white + blue_white"
   ]
  },
  {
   "cell_type": "code",
   "execution_count": null,
   "metadata": {
    "jupyter": {
     "source_hidden": true
    },
    "solution2": "hidden"
   },
   "outputs": [],
   "source": [
    "# Click here to see solution:\n",
    "blue_blue = [(1, 5), (2, 5), (9, 14), (10, 14)]\n",
    "red_blue = [(0, 5), (4, 2), (7, 1), (12, 10), (11, 14), (15, 9)]\n",
    "red_white= [(3, 6), (8, 13)]\n",
    "blue_white = [(1, 6), (2, 6), (9, 13), (10, 13), (5, 13), (6, 14)]\n",
    "\n",
    "edges = blue_blue + red_blue + red_white + blue_white"
   ]
  },
  {
   "cell_type": "code",
   "execution_count": null,
   "metadata": {},
   "outputs": [],
   "source": [
    "# Exercise code cell #2\n",
    "problem_graph = dnx.chimera_graph(2, node_list=range(16),\n",
    "                                  edge_list=edges)    \n",
    "\n",
    "draw_q16(problem_graph, (\"Chimera\", 2), \n",
    "         nodes_red, nodes_blue, nodes_white,\n",
    "         \"solid\")"
   ]
  },
  {
   "attachments": {},
   "cell_type": "markdown",
   "metadata": {},
   "source": [
    "Below is a [dwave-inspector](https://docs.ocean.dwavesys.com/en/stable/docs_inspector/sdk_index.html) image of this problem embedded in a D-Wave 2000Q QPU:\n",
    "\n",
    "<img src='images/16qubit_problem_embedding_chimera.png' width=600x>"
   ]
  },
  {
   "attachments": {},
   "cell_type": "markdown",
   "metadata": {},
   "source": [
    "### Pegasus Embedding\n",
    "One approach to converting this made-for-Chimera problem is to simply map the embedding above to similar structures on the Pegasus topology.\n",
    "\n",
    "In the preceding subsection, you started with two adjacent Chimera unit cells; now use two adjacent $K_{4, 4}$ structures. Start by looking at the Pegasus P2 graph used earlier. This subsection uses a slightly different graphic presentation (the `crosses` parameter of the `draw_pegasus` function are not set to True) to better show the connecting edges."
   ]
  },
  {
   "cell_type": "code",
   "execution_count": null,
   "metadata": {},
   "outputs": [],
   "source": [
    "dnx.draw_pegasus(pegasus_2, with_labels=True, node_size=500, node_color='g')\n",
    "plt.show()"
   ]
  },
  {
   "attachments": {},
   "cell_type": "markdown",
   "metadata": {},
   "source": [
    "Notice the three $K_{4,4}$ structures (ignore their odd couplers) across the diagonal from bottom left to top right. Use two of those; for example, the middle and right ones. \n",
    "\n",
    "As an exercise, the next two code cells let you select nodes to represent the problem's qubits. The next step will be to couple these qubits by selecting edges. \n",
    "\n",
    "<div class=\"alert alert-success\" role=\"alert\" style=\"margin: 10px\"> \n",
    "    <p><b>Exercise:</b> In the first exercise code cell below, try filling in the blue, red, and white nodes. Run the second exercise code cell to check your work. You can iterate on these two cells until you get it right.</p><p><b>Open the hidden solution code cell and run it and the second exercise code cell before continuing to subsequent cells.</b></p></div>"
   ]
  },
  {
   "cell_type": "code",
   "execution_count": null,
   "metadata": {
    "solution2": "hidden",
    "solution2_first": true
   },
   "outputs": [],
   "source": [
    "# Exercise code cell #1\n",
    "nodes_blue = [9, 37]\n",
    "nodes_red = [8]\n",
    "nodes_white = [10]"
   ]
  },
  {
   "cell_type": "code",
   "execution_count": null,
   "metadata": {
    "jupyter": {
     "source_hidden": true
    },
    "solution2": "hidden"
   },
   "outputs": [],
   "source": [
    "# Click here to see solution:\n",
    "nodes_blue = [9, 37, 38, 14, 33, 34]\n",
    "nodes_red = [8, 11, 36, 39, 12, 15, 32, 35]\n",
    "nodes_white = [10, 13]"
   ]
  },
  {
   "cell_type": "code",
   "execution_count": null,
   "metadata": {},
   "outputs": [],
   "source": [
    "# Exercise code cell #2\n",
    "problem_nodes = nodes_blue + nodes_red + nodes_white\n",
    "problem_graph = dnx.pegasus_graph(2, node_list=problem_nodes)\n",
    "\n",
    "draw_q16(problem_graph, (\"Pegasus\", 2), \n",
    "         nodes_red, nodes_blue, nodes_white, \n",
    "         'dotted')"
   ]
  },
  {
   "attachments": {},
   "cell_type": "markdown",
   "metadata": {},
   "source": [
    "<div class=\"alert alert-success\" role=\"alert\" style=\"margin: 10px\"> <p><b>Exercise:</b> In the exercise code cell below, try filling in the edges (representing couplers) that connect the qubits. You can either directly set just the <code>edges</code> variable to a list of all needed edges or use the proposed lists that divide the nodes by color. You can iterate on these two cells until you get it right.</p><p><b>Open the hidden solution code cell and run it and the second exercise code cell before continuing to subsequent cells.</b></p></div>"
   ]
  },
  {
   "cell_type": "code",
   "execution_count": null,
   "metadata": {
    "solution2": "hidden",
    "solution2_first": true
   },
   "outputs": [],
   "source": [
    "# Exercise code cell #1\n",
    "blue_blue = [(9, 37), (9, 38)]\n",
    "red_blue = [(9, 36), (8, 38)]\n",
    "red_white= [(10, 39)]\n",
    "blue_white = [(10, 37)]\n",
    "\n",
    "edges = blue_blue + red_blue + red_white + blue_white"
   ]
  },
  {
   "cell_type": "code",
   "execution_count": null,
   "metadata": {
    "jupyter": {
     "source_hidden": true
    },
    "solution2": "hidden"
   },
   "outputs": [],
   "source": [
    "# Click here to see solution:\n",
    "blue_blue = [(9, 37), (9, 38), (14, 33), (14, 34)]\n",
    "red_blue = [(9, 36), (8, 38), (11, 37), (12, 34), (14, 35), (15, 33)]\n",
    "red_white= [(10, 39), (13, 32)]\n",
    "blue_white = [(10, 37), (10, 38), (13, 33), (13, 34), (9, 13), (10, 14)]\n",
    "\n",
    "edges = blue_blue + red_blue + red_white + blue_white"
   ]
  },
  {
   "cell_type": "code",
   "execution_count": null,
   "metadata": {},
   "outputs": [],
   "source": [
    "# Exercise code cell #2\n",
    "problem_graph = dnx.pegasus_graph(2, node_list=problem_nodes,\n",
    "                                 edge_list=edges)    \n",
    "\n",
    "draw_q16(problem_graph, (\"Pegasus\", 2), \n",
    "         nodes_red, nodes_blue, nodes_white, \n",
    "         'solid')"
   ]
  },
  {
   "attachments": {},
   "cell_type": "markdown",
   "metadata": {},
   "source": [
    "For a full Pegasus P16 QPU, the qubit indices need to be updated.\n",
    "\n",
    "<div class=\"alert alert-success\" role=\"alert\" style=\"margin: 10px\"> <p><b>Advanced (Optional) Exercise:</b> In the exercise code cell below, try filling in the nodes and edges. Use the more friendly coordinates and tools of the previous sections to find the correct qubit indices. You can iterate on the next two cells until you get it right.</p><p><b>Open the hidden solution code cell and run it before continuing to subsequent cells.</b></p></div>"
   ]
  },
  {
   "cell_type": "code",
   "execution_count": null,
   "metadata": {
    "solution2": "hidden",
    "solution2_first": true
   },
   "outputs": [],
   "source": [
    "# Advanced exercise code cell\n",
    "nodes_blue = [376]\n",
    "nodes_red = [361]\n",
    "nodes_white = [3211]\n",
    "\n",
    "problem_nodes = nodes_blue + nodes_red + nodes_white\n",
    "\n",
    "blue_blue = [(376, 3196)]\n",
    "red_blue = [(361, 3196)]\n",
    "red_white = [(406, 3211)]\n",
    "blue_white = [(376, 3211)]\n",
    "\n",
    "edges = blue_blue + red_blue + red_white + blue_white"
   ]
  },
  {
   "cell_type": "code",
   "execution_count": null,
   "metadata": {
    "jupyter": {
     "source_hidden": true
    },
    "solution2": "hidden"
   },
   "outputs": [],
   "source": [
    "# Click here to see solution:\n",
    "nodes_blue = [376, 391, 3196, 556, 571, 3212]\n",
    "nodes_red = [361, 406, 3181, 3226, 541, 586, 3182, 3227]\n",
    "nodes_white = [3211, 3197]\n",
    "\n",
    "problem_nodes = nodes_blue + nodes_red + nodes_white\n",
    "\n",
    "blue_blue = [(376, 3196), (391, 3196), (556, 3212), (571, 3212)]\n",
    "red_blue = [(361, 3196), (3181, 391), (3226, 376), (3182, 571), \n",
    "            (586, 3212), (3227, 556)]\n",
    "red_white = [(406, 3211), (541, 3197)]\n",
    "blue_white = [(376, 3211), (391, 3211), (556, 3197), (571, 3197), \n",
    "              (3196, 3197), (3211, 3212)]\n",
    "\n",
    "edges = blue_blue + red_blue + red_white + blue_white"
   ]
  },
  {
   "attachments": {},
   "cell_type": "markdown",
   "metadata": {},
   "source": [
    "Now the problem can be embedded on a P16 Pegasus. "
   ]
  },
  {
   "cell_type": "code",
   "execution_count": null,
   "metadata": {},
   "outputs": [],
   "source": [
    "problem_graph = dnx.pegasus_graph(16, node_list=problem_nodes,\n",
    "                                  edge_list=edges)    \n",
    "\n",
    "draw_q16(problem_graph, (\"Pegasus\", 16), \n",
    "         nodes_red, nodes_blue, nodes_white, \n",
    "         'solid')"
   ]
  },
  {
   "attachments": {},
   "cell_type": "markdown",
   "metadata": {},
   "source": [
    "Below is a [dwave-inspector](https://docs.ocean.dwavesys.com/en/stable/docs_inspector/sdk_index.html) image of this problem embedded in an Advantage  QPU:\n",
    "\n",
    "<img src='images/16qubit_problem_embedding_p16.png' width=800x>"
   ]
  },
  {
   "attachments": {},
   "cell_type": "markdown",
   "metadata": {},
   "source": [
    "# Example Problem: RANr\n",
    "[RANr problems](https://arxiv.org/abs/1508.05087) are hard problems that have a native Ising model structure: all linear biases are set to zero; quadratic biases are set to values of $\\pm r$, based on a uniform probability choice. The `generate_ranr` function generates a RANr problem for a [NetworkX](http://networkx.github.io/) random graph using Ocean software's [dimod](https://docs.ocean.dwavesys.com/en/stable/index.html) `ran_r` function. "
   ]
  },
  {
   "cell_type": "code",
   "execution_count": null,
   "metadata": {},
   "outputs": [],
   "source": [
    "# Helper functions are in the \"helpers\" folder of this example's repository \n",
    "from helpers.problems import generate_ranr\n",
    "\n",
    "bqm = generate_ranr(7, 100, 2)"
   ]
  },
  {
   "attachments": {},
   "cell_type": "markdown",
   "metadata": {},
   "source": [
    "Typically, you use Ocean's [dwave-system](https://docs.ocean.dwavesys.com/en/stable/docs_system/sdk_index.html) `EmbeddingComposite` to handle minor-embedding for problems you submit to a QPU."
   ]
  },
  {
   "cell_type": "code",
   "execution_count": null,
   "metadata": {},
   "outputs": [],
   "source": [
    "from dwave.system import EmbeddingComposite\n",
    "\n",
    "sampler = EmbeddingComposite(qpu_advantage)"
   ]
  },
  {
   "attachments": {},
   "cell_type": "markdown",
   "metadata": {},
   "source": [
    "## Submit a Problem to an Advantage System\n",
    "Submit a random problem to the QPU. "
   ]
  },
  {
   "cell_type": "code",
   "execution_count": null,
   "metadata": {},
   "outputs": [],
   "source": [
    "num_reads = 4000\n",
    "\n",
    "num_nodes = 50\n",
    "num_edges = 40\n",
    "r = 7\n",
    "\n",
    "bqm = generate_ranr(r, num_nodes, num_edges)\n",
    "    \n",
    "sampleset = sampler.sample(bqm, \n",
    "                           num_reads=num_reads,\n",
    "                           auto_scale=True,\n",
    "                           return_embedding=True,\n",
    "                           answer_mode='raw',\n",
    "                           label='Notebook - Exploring the Pegasus Topology')       "
   ]
  },
  {
   "attachments": {},
   "cell_type": "markdown",
   "metadata": {},
   "source": [
    "Examine the energies."
   ]
  },
  {
   "cell_type": "code",
   "execution_count": null,
   "metadata": {},
   "outputs": [],
   "source": [
    "import numpy as np\n",
    "\n",
    "print(\"Best energy found: {}.\".format(round(sampleset.first.energy, 3)))\n",
    "print(\"Average energy: {}.\".format(round(np.average(sampleset.record.energy), 3)))"
   ]
  },
  {
   "attachments": {},
   "cell_type": "markdown",
   "metadata": {},
   "source": [
    "Examine the embedding."
   ]
  },
  {
   "cell_type": "code",
   "execution_count": null,
   "metadata": {},
   "outputs": [],
   "source": [
    "chain_lengths = list(map(len, sampleset.info['embedding_context']['embedding'].values())) \n",
    "average_chain = np.mean(chain_lengths) \n",
    "longest_chain = max(chain_lengths) \n",
    "chain_breaks = np.average(sampleset.record.chain_break_fraction)\n",
    "\n",
    "print(\"Average chain length: {:.1f}.\".format(average_chain))\n",
    "print(\"Longest chain: {}.\".format(longest_chain))\n",
    "print(\"Average chain breaks percentage: {:.1f}.\".format(100*chain_breaks))"
   ]
  },
  {
   "attachments": {},
   "cell_type": "markdown",
   "metadata": {},
   "source": [
    "Plot an energy histogram."
   ]
  },
  {
   "cell_type": "code",
   "execution_count": null,
   "metadata": {},
   "outputs": [],
   "source": [
    "# Helper functions are in the \"helpers\" folder of this example's repository \n",
    "from helpers.draw import histogram_energies\n",
    "\n",
    "histogram_energies(sampleset)"
   ]
  },
  {
   "attachments": {},
   "cell_type": "markdown",
   "metadata": {},
   "source": [
    "## Performance Comparison: Advantage Vs. D-Wave 2000Q\n",
    "\n",
    "For a random problem embedded heuristically, the Advantage is likely but not certain to produce better results than previous generations of quantum computers. As you saw in the previous sections, Advantage performs relatively better as problem sizes require embeddings with increasing chain lengths, and a random graph might be embedded more or less well, on either topology, for any particular execution of the embedding heuristic. Additionally, for submitted problems (where you are looking at returned solutions rather than just embeddings), the values set for linear and quadratic biases may also be a better fit for one QPU or the other. \n",
    "\n",
    "The figure below shows a histogram for naively combining results from two particular quantum computer systems of a large number (fifty) of similar problems: RAN7 problems generated for [NetworkX](http://networkx.github.io/) `nx.random_regular_graph()` graphs of 50 nodes and 40 edges each. \n",
    "\n",
    "<img src=\"images/ran7_50problems.png\" width=500x/>\n",
    "\n",
    "Such a combined histogram is not a formally correct statistical measure. However, because the problems are large and returned solutions similar (about 10% variance in range), it does capture in essence the impression given by looking at plots of all fifty solutions. \n",
    "\n",
    "Below are the first five of those fifty plots:\n",
    "\n",
    "<img src=\"images/ran7_50problems_first5.png\" width=600x/>"
   ]
  },
  {
   "attachments": {},
   "cell_type": "markdown",
   "metadata": {},
   "source": [
    "Copyright &copy; 2021 D-Wave Systems, Inc\n",
    "\n",
    "The software is licensed under the Apache License, Version 2.0 (the \"License\");\n",
    "you may not use this file except in compliance with the License.\n",
    "You may obtain a copy of the License at\n",
    "\n",
    "    http://www.apache.org/licenses/LICENSE-2.0\n",
    "\n",
    "Unless required by applicable law or agreed to in writing, software\n",
    "distributed under the License is distributed on an \"AS IS\" BASIS,\n",
    "WITHOUT WARRANTIES OR CONDITIONS OF ANY KIND, either express or implied.\n",
    "See the License for the specific language governing permissions and\n",
    "limitations under the License.\n",
    "\n",
    "<a rel=\"license\" href=\"http://creativecommons.org/licenses/by-nc-sa/4.0/\"><img alt=\"Creative Commons License\" style=\"border-width:0\" src=\"https://i.creativecommons.org/l/by-nc-sa/4.0/88x31.png\" /></a><br />This Jupyter Notebook is licensed under a <a rel=\"license\" href=\"http://creativecommons.org/licenses/by-nc-sa/4.0/\">Creative Commons Attribution-NonCommercial-ShareAlike 4.0 International License</a>"
   ]
  }
 ],
 "metadata": {
  "kernelspec": {
   "display_name": "Python 3",
   "language": "python",
   "name": "python3"
  },
  "language_info": {
   "codemirror_mode": {
    "name": "ipython",
    "version": 3
   },
   "file_extension": ".py",
   "mimetype": "text/x-python",
   "name": "python",
   "nbconvert_exporter": "python",
   "pygments_lexer": "ipython3",
   "version": "3.6.5"
  },
  "toc": {
   "base_numbering": "1",
   "nav_menu": {},
   "number_sections": false,
   "sideBar": true,
   "skip_h1_title": false,
   "title_cell": "Table of Contents",
   "title_sidebar": "Contents",
   "toc_cell": false,
   "toc_position": {
    "height": "calc(100% - 180px)",
    "left": "10px",
    "top": "150px",
    "width": "229px"
   },
   "toc_section_display": true,
   "toc_window_display": true
  }
 },
 "nbformat": 4,
 "nbformat_minor": 2
}
